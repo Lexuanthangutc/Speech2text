{
  "nbformat": 4,
  "nbformat_minor": 0,
  "metadata": {
    "colab": {
      "private_outputs": true,
      "provenance": [],
      "gpuType": "T4",
      "authorship_tag": "ABX9TyMyluFlqwx5vryr1uQTBq9j",
      "include_colab_link": true
    },
    "kernelspec": {
      "name": "python3",
      "display_name": "Python 3"
    },
    "language_info": {
      "name": "python"
    },
    "accelerator": "GPU"
  },
  "cells": [
    {
      "cell_type": "markdown",
      "metadata": {
        "id": "view-in-github",
        "colab_type": "text"
      },
      "source": [
        "<a href=\"https://colab.research.google.com/github/Lexuanthangutc/Speech2text/blob/main/Speech2Text.ipynb\" target=\"_parent\"><img src=\"https://colab.research.google.com/assets/colab-badge.svg\" alt=\"Open In Colab\"/></a>"
      ]
    },
    {
      "cell_type": "code",
      "execution_count": null,
      "metadata": {
        "id": "UYBUNzo-5G1G"
      },
      "outputs": [],
      "source": [
        "import locale\n",
        "locale.getpreferredencoding = lambda : \"UTF-8\"\n",
        "!pip3 install -q openai-whisper ffmpeg"
      ]
    },
    {
      "cell_type": "code",
      "source": [
        "import whisper\n",
        "\n",
        "model = whisper.load_model(\"small\", device=\"cuda\")"
      ],
      "metadata": {
        "id": "UkEbPKZb5djq"
      },
      "execution_count": null,
      "outputs": []
    },
    {
      "cell_type": "code",
      "source": [
        "result = model.transcribe(\"/content/Speech_data/WhatsApp Audio 2024-04-01 at 01.55.41_83c6937c.waptt.opus\")\n",
        "print(result[\"text\"])"
      ],
      "metadata": {
        "id": "j8LDZp9r6aNv"
      },
      "execution_count": null,
      "outputs": []
    },
    {
      "cell_type": "code",
      "source": [
        "result = model.transcribe(\"/content/Speech_data/WhatsApp Audio 2024-04-01 at 01.56.25_5f98113b.waptt.opus\")\n",
        "print(result[\"text\"])"
      ],
      "metadata": {
        "id": "EuKyyjm98yq3"
      },
      "execution_count": null,
      "outputs": []
    },
    {
      "cell_type": "code",
      "source": [
        "result = model.transcribe(\"/content/Speech_data/WhatsApp Audio 2024-04-01 at 01.57.11_bdb8871d.waptt.opus\")\n",
        "print(result[\"text\"])"
      ],
      "metadata": {
        "id": "9SFw2aiY9eW-"
      },
      "execution_count": null,
      "outputs": []
    },
    {
      "cell_type": "markdown",
      "source": [
        "# reduce noise"
      ],
      "metadata": {
        "id": "dhg3pjN3_on7"
      }
    },
    {
      "cell_type": "code",
      "source": [
        "import noisereduce as nr\n",
        "import soundfile as sf\n",
        "\n",
        "# Load your audio file with soundfile\n",
        "audio, rate = sf.read(\"/content/Speech_data/WhatsApp Audio 2024-04-01 at 02.04.44_66b339d7.waptt.opus\")\n",
        "\n",
        "# Apply noise reduction\n",
        "reduced_noise_audio = nr.reduce_noise(y=audio, sr=rate)\n",
        "\n",
        "# Save the reduced noise audio to a new file\n",
        "sf.write(\"/content/Speech_data/audio_04_reduced_noise.wav\", reduced_noise_audio, rate)"
      ],
      "metadata": {
        "id": "cIUylMVD_oAF"
      },
      "execution_count": null,
      "outputs": []
    },
    {
      "cell_type": "code",
      "source": [
        "options = {\"language\": \"en\"}"
      ],
      "metadata": {
        "id": "Z7c2rhKsBc1T"
      },
      "execution_count": null,
      "outputs": []
    },
    {
      "cell_type": "code",
      "source": [
        "result = model.transcribe(\"/content/Speech_data/audio_04_reduced_noise.wav\", **options)\n",
        "print(result[\"text\"])"
      ],
      "metadata": {
        "id": "TurrehOr_1Tc"
      },
      "execution_count": null,
      "outputs": []
    },
    {
      "cell_type": "code",
      "source": [],
      "metadata": {
        "id": "oyNfskW7Bfv7"
      },
      "execution_count": null,
      "outputs": []
    }
  ]
}